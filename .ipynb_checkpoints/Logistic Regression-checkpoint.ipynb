{
 "cells": [
  {
   "cell_type": "markdown",
   "metadata": {},
   "source": [
    "## Classification: Logistic Regression"
   ]
  },
  {
   "cell_type": "markdown",
   "metadata": {},
   "source": [
    "### Logistic regression is a common classification algorithm. It has many similarities with Regression. \n",
    "\n",
    " - __The same method of updating parameter(by [Gradient Descent](https://en.wikipedia.org/wiki/Gradient_descent))__\n",
    " - __The similar structure of the loss function__\n",
    "\n",
    "#### The most different between the regression algorithm is its output. The output of Logistic Regression is a class, Regression is a real value.\n",
    " \n",
    " 1. __Hypothesis:__\n",
    " \n",
    " $$h(x)\\ =\\ \\sigma(z)$$\n",
    " $$ z = \\sum_{i=1}^{N}w_ix_i + b$$\n",
    " $$\\sigma(z)\\ =\\ \\frac{1}{\\sigma(1+exp(-z))}$$\n",
    " \n",
    " 2. __Loss function:__\n",
    " \n",
    " $$-lnL(w,b) = \\sum_{i=1}^{N}\\underbrace{-[\\hat{y}^nln(f_{w,b}(x^n))\\ +\\ (1-\\hat{y}^n)ln(1-f_{w,b}(x^n))]}_\\text{Cross Entropy}$$\n",
    " \n",
    " 3. __Partial:__\n",
    " \n",
    " $$\\frac{-lnL(w,b)}{\\partial{w_i}}\\ =\\ \\sum_{i=1}^{N}-[\\hat{y}^n\\underbrace{\\frac{ln(f_{w,b}(x^n))}{\\partial{w_i}}}_\\text{(1)}\\ \n",
    " +\\ (1-\\hat{y}^n)\\underbrace{\\frac{ln(1-f_{w,b}(x^n))}{\\partial{w_i}}}_\\text{(2)}]$$\n",
    " \n",
    "   (1) $$\\frac{ln(f_{w,b}(x^n))}{\\partial{w_i}}\\ =\\ \\frac{\\partial{ln(f_{w,b}(x^n))}}{\\partial{z}}\\frac{\\partial{z}}{\\partial{w_i}}\\text{(by Chain Rule)}$$\n",
    "   \n",
    "   $$\\frac{\\partial{ln(f_{w,b}(x^n))}}{\\partial{z}} = \\frac{\\partial{\\sigma{(z)}}}{\\partial{w}}\\ =\\ \\frac{1}{\\sigma{(z)}}\\frac{\\partial{\\sigma{(z)}}}{\\partial{z}} = \\frac{1}{\\sigma{(z)}}\\sigma{(z)}(1-\\sigma{(z)}) = (1-\\sigma(z))\\text{-----(a)}$$\n",
    "   \n",
    "   $$\\frac{\\partial{z}}{\\partial{w_i}} = x_i\\text{-----(b)}$$\n",
    "   \n",
    "   $$(a)(b)\\rightarrow (1-\\sigma(z))x_i$$\n",
    "   \n",
    "   (2) $$\\frac{\\partial{ln(1-f_{w,b}(x^n))}}{\\partial{z}} = \\frac{\\partial{(1-\\sigma{(z)})}}{\\partial{w}}\\ =\\ \\frac{1}{1-\\sigma{(z)}}\\frac{\\partial{\\sigma{(z)}}}{\\partial{z}} = \\frac{1}{1-\\sigma{(z)}}\\sigma{(z)}(1-\\sigma{(z)}) = \\sigma(z)\\text{-----(a)}$$\n",
    "   \n",
    "   $$\\frac{\\partial{z}}{\\partial{w_i}} = x_i\\text{-----(b)}$$\n",
    "   \n",
    "   $$(a)(b)\\rightarrow \\sigma(z)x_i$$\n",
    "   \n",
    "#### Combine(1)、(2) :\n",
    " \n",
    "  $$\\frac{-lnL(w,b)}{\\partial{w_i}}\\ =\\ \\sum_{i=1}^{N}-[\\hat{y}^n\\frac{ln(f_{w,b}(x^n))}{\\partial{w_i}}\\ \n",
    " +\\ (1-\\hat{y}^{n})\\frac{ln(1-f_{w,b}(x^n))}{\\partial{w_i}}]\\\\ = \\sum_{i=0}^{N}-[\\hat{y}^{n}(1-f_{w,b}(x^{n}))x_{i}^{n}+(1-\\hat{y}^n)f_{w,b}(x^n)x_{i}]\\\\ = \\sum_{i=1}^{N}-[\\hat{y}^{n}-\\hat{y}^{n}f_{w,b}(x^{n})-f_{w,b}(x^{n})+\\hat{y}^{n}f_{w,b}(x^{n})]x_{i}\\\\ = \\sum_{i=1}^{N}-(\\hat{y}^{n}-f_{w,b}(x^{n}))x_{i}$$\n",
    " \n",
    "#### Update Parameters :\n",
    " \n",
    "  $$w_{i}\\leftarrow w_{i-1}-\\eta \\sum_{i=1}^{N}-(\\hat{y}^{n}-f_{w,b}(x^{n}))x_{i}$$\n",
    "  \n",
    "  $$b_{i}\\leftarrow b_{i-1}-\\eta \\sum_{i=1}^{N}-(\\hat{y}^{n}-f_{w,b}(x^{n}))\\times{1}$$"
   ]
  },
  {
   "cell_type": "code",
   "execution_count": 1,
   "metadata": {},
   "outputs": [],
   "source": [
    "import numpy as np\n",
    "import pandas as pd\n",
    "from tqdm import tqdm # progress bar\n",
    "from sklearn import datasets\n",
    "import matplotlib.pyplot as plt"
   ]
  },
  {
   "cell_type": "markdown",
   "metadata": {},
   "source": [
    "#### Use Iris dataset as an example."
   ]
  },
  {
   "cell_type": "code",
   "execution_count": 2,
   "metadata": {},
   "outputs": [
    {
     "name": "stdout",
     "output_type": "stream",
     "text": [
      "target names : ['setosa' 'versicolor' 'virginica']\n"
     ]
    }
   ],
   "source": [
    "iris = datasets.load_iris()\n",
    "print('target names : %s' % iris.target_names)\n",
    "iris_arr = np.concatenate((iris.data, iris.target.reshape(len(iris.data), 1)), axis = 1)\n",
    "col_names = iris.feature_names.copy()\n",
    "col_names.append('target')\n",
    "\n",
    "iris_data = pd.DataFrame(iris_arr, columns = col_names)"
   ]
  },
  {
   "cell_type": "code",
   "execution_count": 3,
   "metadata": {},
   "outputs": [
    {
     "data": {
      "text/html": [
       "<div>\n",
       "<style scoped>\n",
       "    .dataframe tbody tr th:only-of-type {\n",
       "        vertical-align: middle;\n",
       "    }\n",
       "\n",
       "    .dataframe tbody tr th {\n",
       "        vertical-align: top;\n",
       "    }\n",
       "\n",
       "    .dataframe thead th {\n",
       "        text-align: right;\n",
       "    }\n",
       "</style>\n",
       "<table border=\"1\" class=\"dataframe\">\n",
       "  <thead>\n",
       "    <tr style=\"text-align: right;\">\n",
       "      <th></th>\n",
       "      <th>sepal length (cm)</th>\n",
       "      <th>sepal width (cm)</th>\n",
       "      <th>petal length (cm)</th>\n",
       "      <th>petal width (cm)</th>\n",
       "      <th>target</th>\n",
       "    </tr>\n",
       "  </thead>\n",
       "  <tbody>\n",
       "    <tr>\n",
       "      <th>0</th>\n",
       "      <td>5.1</td>\n",
       "      <td>3.5</td>\n",
       "      <td>1.4</td>\n",
       "      <td>0.2</td>\n",
       "      <td>0.0</td>\n",
       "    </tr>\n",
       "    <tr>\n",
       "      <th>1</th>\n",
       "      <td>4.9</td>\n",
       "      <td>3.0</td>\n",
       "      <td>1.4</td>\n",
       "      <td>0.2</td>\n",
       "      <td>0.0</td>\n",
       "    </tr>\n",
       "    <tr>\n",
       "      <th>2</th>\n",
       "      <td>4.7</td>\n",
       "      <td>3.2</td>\n",
       "      <td>1.3</td>\n",
       "      <td>0.2</td>\n",
       "      <td>0.0</td>\n",
       "    </tr>\n",
       "    <tr>\n",
       "      <th>3</th>\n",
       "      <td>4.6</td>\n",
       "      <td>3.1</td>\n",
       "      <td>1.5</td>\n",
       "      <td>0.2</td>\n",
       "      <td>0.0</td>\n",
       "    </tr>\n",
       "    <tr>\n",
       "      <th>4</th>\n",
       "      <td>5.0</td>\n",
       "      <td>3.6</td>\n",
       "      <td>1.4</td>\n",
       "      <td>0.2</td>\n",
       "      <td>0.0</td>\n",
       "    </tr>\n",
       "  </tbody>\n",
       "</table>\n",
       "</div>"
      ],
      "text/plain": [
       "   sepal length (cm)  sepal width (cm)  petal length (cm)  petal width (cm)  \\\n",
       "0                5.1               3.5                1.4               0.2   \n",
       "1                4.9               3.0                1.4               0.2   \n",
       "2                4.7               3.2                1.3               0.2   \n",
       "3                4.6               3.1                1.5               0.2   \n",
       "4                5.0               3.6                1.4               0.2   \n",
       "\n",
       "   target  \n",
       "0     0.0  \n",
       "1     0.0  \n",
       "2     0.0  \n",
       "3     0.0  \n",
       "4     0.0  "
      ]
     },
     "execution_count": 3,
     "metadata": {},
     "output_type": "execute_result"
    }
   ],
   "source": [
    "iris_data.head(5)"
   ]
  },
  {
   "cell_type": "code",
   "execution_count": 4,
   "metadata": {},
   "outputs": [
    {
     "data": {
      "text/html": [
       "<div>\n",
       "<style scoped>\n",
       "    .dataframe tbody tr th:only-of-type {\n",
       "        vertical-align: middle;\n",
       "    }\n",
       "\n",
       "    .dataframe tbody tr th {\n",
       "        vertical-align: top;\n",
       "    }\n",
       "\n",
       "    .dataframe thead th {\n",
       "        text-align: right;\n",
       "    }\n",
       "</style>\n",
       "<table border=\"1\" class=\"dataframe\">\n",
       "  <thead>\n",
       "    <tr style=\"text-align: right;\">\n",
       "      <th></th>\n",
       "      <th>sepal length (cm)</th>\n",
       "      <th>sepal width (cm)</th>\n",
       "      <th>petal length (cm)</th>\n",
       "      <th>petal width (cm)</th>\n",
       "      <th>target</th>\n",
       "      <th>target_name</th>\n",
       "    </tr>\n",
       "  </thead>\n",
       "  <tbody>\n",
       "    <tr>\n",
       "      <th>0</th>\n",
       "      <td>5.1</td>\n",
       "      <td>3.5</td>\n",
       "      <td>1.4</td>\n",
       "      <td>0.2</td>\n",
       "      <td>0.0</td>\n",
       "      <td>setosa</td>\n",
       "    </tr>\n",
       "    <tr>\n",
       "      <th>1</th>\n",
       "      <td>4.9</td>\n",
       "      <td>3.0</td>\n",
       "      <td>1.4</td>\n",
       "      <td>0.2</td>\n",
       "      <td>0.0</td>\n",
       "      <td>setosa</td>\n",
       "    </tr>\n",
       "    <tr>\n",
       "      <th>2</th>\n",
       "      <td>4.7</td>\n",
       "      <td>3.2</td>\n",
       "      <td>1.3</td>\n",
       "      <td>0.2</td>\n",
       "      <td>0.0</td>\n",
       "      <td>setosa</td>\n",
       "    </tr>\n",
       "    <tr>\n",
       "      <th>3</th>\n",
       "      <td>4.6</td>\n",
       "      <td>3.1</td>\n",
       "      <td>1.5</td>\n",
       "      <td>0.2</td>\n",
       "      <td>0.0</td>\n",
       "      <td>setosa</td>\n",
       "    </tr>\n",
       "    <tr>\n",
       "      <th>4</th>\n",
       "      <td>5.0</td>\n",
       "      <td>3.6</td>\n",
       "      <td>1.4</td>\n",
       "      <td>0.2</td>\n",
       "      <td>0.0</td>\n",
       "      <td>setosa</td>\n",
       "    </tr>\n",
       "  </tbody>\n",
       "</table>\n",
       "</div>"
      ],
      "text/plain": [
       "   sepal length (cm)  sepal width (cm)  petal length (cm)  petal width (cm)  \\\n",
       "0                5.1               3.5                1.4               0.2   \n",
       "1                4.9               3.0                1.4               0.2   \n",
       "2                4.7               3.2                1.3               0.2   \n",
       "3                4.6               3.1                1.5               0.2   \n",
       "4                5.0               3.6                1.4               0.2   \n",
       "\n",
       "   target target_name  \n",
       "0     0.0      setosa  \n",
       "1     0.0      setosa  \n",
       "2     0.0      setosa  \n",
       "3     0.0      setosa  \n",
       "4     0.0      setosa  "
      ]
     },
     "execution_count": 4,
     "metadata": {},
     "output_type": "execute_result"
    }
   ],
   "source": [
    "target_name = {\n",
    "    0 : 'setosa',\n",
    "    1 : 'versicolor',\n",
    "    2 : 'virginica'\n",
    "}\n",
    "\n",
    "iris_data['target_name'] = iris_data['target'].map(target_name)\n",
    "iris_data.head(5)"
   ]
  },
  {
   "cell_type": "markdown",
   "metadata": {},
   "source": [
    "### Scatter plot for iris"
   ]
  },
  {
   "cell_type": "code",
   "execution_count": 5,
   "metadata": {},
   "outputs": [
    {
     "data": {
      "image/png": "[encoded data removed]",
      "text/plain": [
       "<matplotlib.figure.Figure at 0x19d01908>"
      ]
     },
     "metadata": {},
     "output_type": "display_data"
    }
   ],
   "source": [
    "def vis_data(variable_x, variable_y, data = iris_data):\n",
    "    num = 0 \n",
    "    for target in set(data['target_name']):\n",
    "        x = data[variable_x][data['target_name'] == target]\n",
    "        y = data[variable_y][data['target_name'] == target]\n",
    "        plt.scatter(x = x, y = y, color = ['r', 'g', 'b'][num], label = target)\n",
    "        num += 1\n",
    "\n",
    "    plt.legend()\n",
    "    plt.xlabel(s = variable_x)\n",
    "    plt.ylabel(s = variable_y)\n",
    "    #plt.show()\n",
    "    \n",
    "vis_data(variable_x = 'sepal length (cm)', variable_y = 'petal length (cm)', data = iris_data)"
   ]
  },
  {
   "cell_type": "code",
   "execution_count": 6,
   "metadata": {},
   "outputs": [],
   "source": [
    "# select class and variable\n",
    "def select_data(data, variable_names, ClassVariable_name, class_names):\n",
    "    sub_data = data.loc[:, variable_names]\n",
    "    i = 0\n",
    "    for name in class_names:\n",
    "        i += 1\n",
    "        if len(class_names) == 1:\n",
    "            filter_data = sub_data[sub_data[ClassVariable_name] == name]\n",
    "            return filter_data\n",
    "        else:\n",
    "            if i == 1:\n",
    "                filter_data = sub_data[sub_data[ClassVariable_name] == name]\n",
    "            else:\n",
    "                temp_dat = sub_data[sub_data[ClassVariable_name] == name]\n",
    "                filter_data = pd.concat([filter_data, temp_dat])\n",
    "                return filter_data"
   ]
  },
  {
   "cell_type": "markdown",
   "metadata": {},
   "source": [
    "#### If you choose other species, the label of species needs to be changed to 0 and 1."
   ]
  },
  {
   "cell_type": "code",
   "execution_count": 7,
   "metadata": {},
   "outputs": [],
   "source": [
    "subset_iris = select_data(data = iris_data, variable_names = [\"sepal length (cm)\", 'petal length (cm)', 'target', 'target_name'],\n",
    "                       ClassVariable_name ='target_name', class_names = [\"setosa\", 'versicolor'])\n",
    "set(subset_iris['target_name'])\n",
    "\n",
    "final_iris = subset_iris.drop(columns = 'target_name', axis = 1)"
   ]
  },
  {
   "cell_type": "markdown",
   "metadata": {},
   "source": [
    "### Split data to training  and testing "
   ]
  },
  {
   "cell_type": "code",
   "execution_count": 8,
   "metadata": {},
   "outputs": [],
   "source": [
    "def split_data(data, split_ratio, target_name, rand_seed = 123):\n",
    "    np.random.seed(seed = rand_seed)\n",
    "    size = int(np.ceil(len(data)*split_ratio))\n",
    "    ind = np.random.choice(a = len(data), size = size, replace = False)\n",
    "    data.index = list(range(len(data)))\n",
    "    \n",
    "    training_data = data.iloc[ind,:]\n",
    "    testing_data = data.drop(index = ind)\n",
    "    \n",
    "    y_ind = np.where(data.columns == target_name)[0] # get x variable index\n",
    "    x_ind = np.where((data.columns == target_name) == False)[0] #  get y variable index\n",
    "    \n",
    "    training_x, training_y = training_data.iloc[:, x_ind], training_data.iloc[:, y_ind]\n",
    "    testing_x, testing_y = testing_data.iloc[:, x_ind], testing_data.iloc[:, y_ind]\n",
    "    \n",
    "    return {\"training\":{\"x\": training_x, \"y\": training_y}, \"testing\":{\"x\": testing_x, \"y\": testing_y}}"
   ]
  },
  {
   "cell_type": "code",
   "execution_count": 9,
   "metadata": {},
   "outputs": [],
   "source": [
    "df = split_data(data = final_iris, split_ratio = 0.7, target_name = 'target')\n",
    "training_x, training_y = df['training']['x'].as_matrix(), (df['training']['y'].values).flatten()\n",
    "testing_x, testing_y = df['testing']['x'].as_matrix(), (df['testing']['y'].values).flatten()"
   ]
  },
  {
   "cell_type": "code",
   "execution_count": 10,
   "metadata": {},
   "outputs": [],
   "source": [
    "class logistic_regression:\n",
    "    \n",
    "    def __init__(self, num_iter, learning_rate, fit_intercept = True):\n",
    "        self.num_iter = num_iter\n",
    "        self.learning_rate = learning_rate\n",
    "        self.fit_intercept = fit_intercept\n",
    "        \n",
    "    def __adding_intercept(self, x):\n",
    "        return np.column_stack(tup = (np.ones(len(x)), x)) # adding intercept on the first column\n",
    "    \n",
    "    def __sigmoid(self, z):\n",
    "        return 1/(1 + np.exp(-z))\n",
    "    \n",
    "    def __compute_loss(self, x, y, w):\n",
    "        z = np.dot(w, x.T)\n",
    "        loss = np.sum(-(y*np.log(self.__sigmoid(z)) + (1-y)*np.log(1 - self.__sigmoid(z)))) \n",
    "        # cross entropy\n",
    "        return loss\n",
    "      \n",
    "    def training(self, x, y):\n",
    "        \n",
    "        if self.fit_intercept == True:\n",
    "            x = self.__adding_intercept(x)\n",
    "            \n",
    "        self.w = np.zeros(x.shape[1]).reshape(1, x.shape[1])\n",
    "        self.loss = 0\n",
    "        \n",
    "        self.loss_history = list()\n",
    "        self.weight_history = list()\n",
    "        \n",
    "        for i in tqdm(range(self.num_iter)):\n",
    "            \n",
    "            self.loss = self.__compute_loss(x = x, y = y, w = self.w)\n",
    "            z = np.dot(self.w, x.T)\n",
    "            \n",
    "            gradient = np.dot(-(y - self.__sigmoid(z)).reshape(1, len(x)), x)\n",
    "            \n",
    "            self.w -= self.learning_rate * gradient.reshape(1, x.shape[1])\n",
    "            \n",
    "            self.loss_history.append(self.loss)\n",
    "            self.weight_history.append(self.w.tolist())\n",
    "            \n",
    "    def predict(self, testing_x, probability = False, threshold = .5):\n",
    "        \n",
    "        if self.fit_intercept == True:\n",
    "            testing_x = self.__adding_intercept(testing_x)\n",
    "            \n",
    "        if probability == True:\n",
    "            prob = self.__sigmoid(np.dot(self.w, testing_x.T))\n",
    "            return(prob)\n",
    "        else:\n",
    "            prob = self.__sigmoid(np.dot(self.w, testing_x.T))\n",
    "            return((prob > threshold).astype(int))\n",
    "    "
   ]
  },
  {
   "cell_type": "code",
   "execution_count": 11,
   "metadata": {},
   "outputs": [
    {
     "name": "stderr",
     "output_type": "stream",
     "text": [
      "100%|█████████████████████████████████| 10000/10000 [00:00<00:00, 23254.47it/s]\n"
     ]
    }
   ],
   "source": [
    "lr = logistic_regression(num_iter = 10000, learning_rate = 0.001, fit_intercept = True)\n",
    "lr.training(x = training_x, y = training_y)"
   ]
  },
  {
   "cell_type": "code",
   "execution_count": 12,
   "metadata": {},
   "outputs": [],
   "source": [
    "pred = lr.predict(testing_x = testing_x, probability = False)"
   ]
  },
  {
   "cell_type": "code",
   "execution_count": 13,
   "metadata": {},
   "outputs": [
    {
     "name": "stdout",
     "output_type": "stream",
     "text": [
      "accuracy rate: 1.0\n"
     ]
    }
   ],
   "source": [
    "accuracy = np.sum((pred == testing_y).astype(int))/pred.shape[1]\n",
    "print(f\"accuracy rate: %s\" % accuracy)"
   ]
  },
  {
   "cell_type": "code",
   "execution_count": 14,
   "metadata": {},
   "outputs": [],
   "source": [
    "intercept = lr.w[0][0]\n",
    "w1 = lr.w[0][1]\n",
    "w2 = lr.w[0][2]"
   ]
  },
  {
   "cell_type": "markdown",
   "metadata": {},
   "source": [
    "### Visualize training error"
   ]
  },
  {
   "cell_type": "code",
   "execution_count": 15,
   "metadata": {},
   "outputs": [
    {
     "data": {
      "image/png": "[encoded data removed]",
      "text/plain": [
       "<matplotlib.figure.Figure at 0x1bdf4780>"
      ]
     },
     "metadata": {},
     "output_type": "display_data"
    }
   ],
   "source": [
    "x = np.arange(1, lr.num_iter + 1)\n",
    "y = lr.loss_history\n",
    "\n",
    "plt.plot(x, y, 'r-')\n",
    "plt.xlabel(s = '$Number\\ of\\ Iteration$')\n",
    "plt.ylabel(s = '$Error$')\n",
    "plt.title(s = '$Training\\ Process$')\n",
    "plt.show()"
   ]
  },
  {
   "cell_type": "markdown",
   "metadata": {},
   "source": [
    "### Visualize Decision Boundary\n",
    "\n",
    "#### In this case, we have two method to plot decision boundary.\n",
    " - __method 1:__ \n",
    " \n",
    "     Solve linear equation to get the relation between x and y."
   ]
  },
  {
   "cell_type": "code",
   "execution_count": 16,
   "metadata": {},
   "outputs": [
    {
     "data": {
      "image/png": "[encoded data removed]",
      "text/plain": [
       "<matplotlib.figure.Figure at 0x19d60710>"
      ]
     },
     "metadata": {},
     "output_type": "display_data"
    }
   ],
   "source": [
    "plot_x = np.linspace(start = np.amin(subset_iris['sepal length (cm)']), stop = np.amax(subset_iris['sepal length (cm)']))\n",
    "plot_y = -(w1/w2)*plot_x + (-intercept/w2)\n",
    "\n",
    "vis_data(variable_x = 'sepal length (cm)', variable_y = 'petal length (cm)', data = subset_iris)\n",
    "\n",
    "plt.plot(plot_x, plot_y, 'b-')\n",
    "plt.show()"
   ]
  },
  {
   "cell_type": "markdown",
   "metadata": {},
   "source": [
    " - __method 2:__\n",
    "     \n",
    "     Use `np.meshgrid` to get grid points, then using these points as x to predict y.\n",
    "     \n",
    "     Finally, use `plt.contourf` to plot region."
   ]
  },
  {
   "cell_type": "code",
   "execution_count": 17,
   "metadata": {},
   "outputs": [],
   "source": [
    "tra_xmin, tra_xmax = training_x[:, 0].min() - 1, training_x[:, 0].max() + 1\n",
    "tra_ymin, tra_ymax = training_x[:, 1].min() -1, training_x[:, 1].max() + 1\n",
    "\n",
    "xx, yy = np.meshgrid(np.linspace(tra_xmin,tra_xmax, num = 1000), np.linspace(tra_ymin,tra_ymax, num = 1000))"
   ]
  },
  {
   "cell_type": "code",
   "execution_count": 18,
   "metadata": {},
   "outputs": [
    {
     "data": {
      "image/png": "[encoded data removed]",
      "text/plain": [
       "<matplotlib.figure.Figure at 0x1bf7a080>"
      ]
     },
     "metadata": {},
     "output_type": "display_data"
    }
   ],
   "source": [
    "# decision boundary \n",
    "plot_testing = np.c_[xx.ravel(), yy.ravel()]\n",
    "z = lr.predict(plot_testing)\n",
    "z = z.reshape(xx.shape)\n",
    "plt.contourf(xx, yy, z, cmap = plt.cm.Pastel2)\n",
    "plt.contour(xx, yy, z, linewidths = 1, colors ='black')\n",
    "vis_data(variable_x = 'sepal length (cm)', variable_y = 'petal length (cm)', data = subset_iris)"
   ]
  },
  {
   "cell_type": "markdown",
   "metadata": {},
   "source": [
    "### Sklearn Logistic Regression"
   ]
  },
  {
   "cell_type": "code",
   "execution_count": 19,
   "metadata": {},
   "outputs": [],
   "source": [
    "from sklearn.linear_model import LogisticRegression\n",
    "from sklearn.metrics import accuracy_score\n",
    "from sklearn.metrics import classification_report\n",
    "from sklearn.metrics import confusion_matrix\n",
    "from mlxtend.plotting import plot_decision_regions"
   ]
  },
  {
   "cell_type": "code",
   "execution_count": 20,
   "metadata": {},
   "outputs": [
    {
     "data": {
      "text/plain": [
       "LogisticRegression(C=1.0, class_weight=None, dual=False, fit_intercept=True,\n",
       "          intercept_scaling=1, max_iter=10000, multi_class='ovr', n_jobs=1,\n",
       "          penalty='l2', random_state=None, solver='liblinear', tol=0.0001,\n",
       "          verbose=0, warm_start=False)"
      ]
     },
     "execution_count": 20,
     "metadata": {},
     "output_type": "execute_result"
    }
   ],
   "source": [
    "sklearn_lr = LogisticRegression(max_iter = 10000)\n",
    "sklearn_lr.fit(training_x, training_y)"
   ]
  },
  {
   "cell_type": "code",
   "execution_count": 21,
   "metadata": {},
   "outputs": [
    {
     "name": "stdout",
     "output_type": "stream",
     "text": [
      "accuracy : 100.00%\n"
     ]
    }
   ],
   "source": [
    "pred = sklearn_lr.predict(X = testing_x)\n",
    "acc = accuracy_score(y_true = testing_y, y_pred = pred)\n",
    "print('accuracy : {0:.2f}%'.format(acc*100))"
   ]
  },
  {
   "cell_type": "code",
   "execution_count": 22,
   "metadata": {},
   "outputs": [
    {
     "name": "stdout",
     "output_type": "stream",
     "text": [
      "-------------------------confusion matrix-------------------------\n",
      "[[14  0]\n",
      " [ 0 16]]\n",
      "-------------------------classification report-------------------------\n",
      "             precision    recall  f1-score   support\n",
      "\n",
      "        0.0       1.00      1.00      1.00        14\n",
      "        1.0       1.00      1.00      1.00        16\n",
      "\n",
      "avg / total       1.00      1.00      1.00        30\n",
      "\n"
     ]
    }
   ],
   "source": [
    "print(\"-\"*25 + 'confusion matrix' + \"-\"*25)\n",
    "print(confusion_matrix(testing_y, pred))\n",
    "print(\"-\"*25 + 'classification report' + \"-\"*25, end = '\\n')\n",
    "print(classification_report(testing_y, pred))"
   ]
  },
  {
   "cell_type": "code",
   "execution_count": 23,
   "metadata": {},
   "outputs": [
    {
     "data": {
      "image/png": "[encoded data removed]",
      "text/plain": [
       "<matplotlib.figure.Figure at 0x1cc8aac8>"
      ]
     },
     "metadata": {},
     "output_type": "display_data"
    }
   ],
   "source": [
    "plot_decision_regions(X = training_x, y = training_y.astype(np.integer), clf = sklearn_lr, legend = 2)\n",
    "\n",
    "plt.title('Decision Boundary')\n",
    "plt.xlabel('sepal length (cm)')\n",
    "plt.ylabel('petal length (cm)')\n",
    "plt.show()"
   ]
  },
  {
   "cell_type": "markdown",
   "metadata": {},
   "source": [
    "### Reference :\n",
    "\n",
    "- [NTU Machine Learning 2017 Hung-yi Lee](http://speech.ee.ntu.edu.tw/~tlkagk/courses_ML17_2.html)\n",
    "- [sklearn Logistic Regression](http://scikit-learn.org/stable/modules/generated/sklearn.linear_model.LogisticRegression.html)"
   ]
  }
 ],
 "metadata": {
  "kernelspec": {
   "display_name": "Python 3",
   "language": "python",
   "name": "python3"
  },
  "language_info": {
   "codemirror_mode": {
    "name": "ipython",
    "version": 3
   },
   "file_extension": ".py",
   "mimetype": "text/x-python",
   "name": "python",
   "nbconvert_exporter": "python",
   "pygments_lexer": "ipython3",
   "version": "3.6.4"
  },
  "toc": {
   "base_numbering": 1,
   "nav_menu": {},
   "number_sections": false,
   "sideBar": true,
   "skip_h1_title": false,
   "title_cell": "Table of Contents",
   "title_sidebar": "Contents",
   "toc_cell": false,
   "toc_position": {},
   "toc_section_display": true,
   "toc_window_display": false
  },
  "varInspector": {
   "cols": {
    "lenName": 16,
    "lenType": 16,
    "lenVar": 40
   },
   "kernels_config": {
    "python": {
     "delete_cmd_postfix": "",
     "delete_cmd_prefix": "del ",
     "library": "var_list.py",
     "varRefreshCmd": "print(var_dic_list())"
    },
    "r": {
     "delete_cmd_postfix": ") ",
     "delete_cmd_prefix": "rm(",
     "library": "var_list.r",
     "varRefreshCmd": "cat(var_dic_list()) "
    }
   },
   "types_to_exclude": [
    "module",
    "function",
    "builtin_function_or_method",
    "instance",
    "_Feature"
   ],
   "window_display": false
  }
 },
 "nbformat": 4,
 "nbformat_minor": 2
}
