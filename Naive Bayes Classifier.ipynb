{
 "cells": [
  {
   "cell_type": "markdown",
   "metadata": {},
   "source": [
    "## Classification : Probabilistic Generative Model "
   ]
  },
  {
   "cell_type": "code",
   "execution_count": 1,
   "metadata": {},
   "outputs": [],
   "source": [
    "import numpy as np\n",
    "import pandas as pd\n",
    "import matplotlib.pyplot as plt\n",
    "import seaborn as sns\n",
    "#from scipy.stats import multivariate_normal"
   ]
  },
  {
   "cell_type": "markdown",
   "metadata": {},
   "source": [
    "## Naive Bayes Algorithm\n",
    "   Naive Bayes algorithm is a kind of simple generative model, it has a `naive` assumption of independence between every pair of features."
   ]
  },
  {
   "cell_type": "markdown",
   "metadata": {},
   "source": [
    "$$P(X|C_{1})\\ =\\ P(x_{1}|C_{1})\\times \\ P(x_{2}|C_{1})\\times P(x_{3}|C_{1})....P(x_{k}|C_{1}) $$"
   ]
  },
  {
   "cell_type": "markdown",
   "metadata": {},
   "source": [
    "Assuming C1 conform to Gaussian distribution, so we can use Gaussian probability density function to eastimate $P(X|C1_{1}) = \\prod_{i = 1}^{N} P(x_{i}|C_{1})$"
   ]
  },
  {
   "cell_type": "markdown",
   "metadata": {},
   "source": [
    " ###  Data Description\n",
    " #### Use pima-indians.data file as our demonstration dataset.([download from here](https://raw.githubusercontent.com/jbrownlee/Datasets/master/pima-indians-diabetes.data.csv)).\n",
    " 1. Number of times pregnant\n",
    " 2. Plasma glucose concentration a 2 hours in an oral glucose tolerance test\n",
    " 3. Diastolic blood pressure (mm Hg)\n",
    " 4. Triceps skin fold thickness (mm)\n",
    " 5. 2-Hour serum insulin (mu U/ml)\n",
    " 6. Body mass index (weight in kg/(height in m)^2)\n",
    " 7. Diabetes pedigree function\n",
    " 8. Age (years)\n",
    " 9. Class variable (0 or 1)"
   ]
  },
  {
   "cell_type": "markdown",
   "metadata": {},
   "source": [
    "###  Data Processing"
   ]
  },
  {
   "cell_type": "code",
   "execution_count": 2,
   "metadata": {
    "code_folding": []
   },
   "outputs": [],
   "source": [
    "dat_names = [\"Pregnant\", \"Plg\", \"BP\", \"TSFT\", \"SI\", \"BMI\", \"DP\",\"Age\", \"Class\"]\n",
    "\n",
    "dat = list()\n",
    "with open(file = \"C:\\\\Users\\\\Bing\\\\Desktop\\\\NB_dataset.txt\", mode = \"r+\") as readfile:\n",
    "    for line in readfile:\n",
    "        dat.append(list(map(lambda x : float(x), line.split(sep = ','))))"
   ]
  },
  {
   "cell_type": "code",
   "execution_count": 3,
   "metadata": {},
   "outputs": [
    {
     "data": {
      "text/html": [
       "<div>\n",
       "<style scoped>\n",
       "    .dataframe tbody tr th:only-of-type {\n",
       "        vertical-align: middle;\n",
       "    }\n",
       "\n",
       "    .dataframe tbody tr th {\n",
       "        vertical-align: top;\n",
       "    }\n",
       "\n",
       "    .dataframe thead th {\n",
       "        text-align: right;\n",
       "    }\n",
       "</style>\n",
       "<table border=\"1\" class=\"dataframe\">\n",
       "  <thead>\n",
       "    <tr style=\"text-align: right;\">\n",
       "      <th></th>\n",
       "      <th>Pregnant</th>\n",
       "      <th>Plg</th>\n",
       "      <th>BP</th>\n",
       "      <th>TSFT</th>\n",
       "      <th>SI</th>\n",
       "      <th>BMI</th>\n",
       "      <th>DP</th>\n",
       "      <th>Age</th>\n",
       "      <th>Class</th>\n",
       "    </tr>\n",
       "  </thead>\n",
       "  <tbody>\n",
       "    <tr>\n",
       "      <th>0</th>\n",
       "      <td>6.0</td>\n",
       "      <td>148.0</td>\n",
       "      <td>72.0</td>\n",
       "      <td>35.0</td>\n",
       "      <td>0.0</td>\n",
       "      <td>33.6</td>\n",
       "      <td>0.627</td>\n",
       "      <td>50.0</td>\n",
       "      <td>1.0</td>\n",
       "    </tr>\n",
       "    <tr>\n",
       "      <th>1</th>\n",
       "      <td>1.0</td>\n",
       "      <td>85.0</td>\n",
       "      <td>66.0</td>\n",
       "      <td>29.0</td>\n",
       "      <td>0.0</td>\n",
       "      <td>26.6</td>\n",
       "      <td>0.351</td>\n",
       "      <td>31.0</td>\n",
       "      <td>0.0</td>\n",
       "    </tr>\n",
       "    <tr>\n",
       "      <th>2</th>\n",
       "      <td>8.0</td>\n",
       "      <td>183.0</td>\n",
       "      <td>64.0</td>\n",
       "      <td>0.0</td>\n",
       "      <td>0.0</td>\n",
       "      <td>23.3</td>\n",
       "      <td>0.672</td>\n",
       "      <td>32.0</td>\n",
       "      <td>1.0</td>\n",
       "    </tr>\n",
       "  </tbody>\n",
       "</table>\n",
       "</div>"
      ],
      "text/plain": [
       "   Pregnant    Plg    BP  TSFT   SI   BMI     DP   Age  Class\n",
       "0       6.0  148.0  72.0  35.0  0.0  33.6  0.627  50.0    1.0\n",
       "1       1.0   85.0  66.0  29.0  0.0  26.6  0.351  31.0    0.0\n",
       "2       8.0  183.0  64.0   0.0  0.0  23.3  0.672  32.0    1.0"
      ]
     },
     "execution_count": 3,
     "metadata": {},
     "output_type": "execute_result"
    }
   ],
   "source": [
    "df = pd.DataFrame(data = dat, columns = dat_names)\n",
    "df.head(3)"
   ]
  },
  {
   "cell_type": "code",
   "execution_count": 4,
   "metadata": {
    "code_folding": []
   },
   "outputs": [],
   "source": [
    "def data_split(df, split_ratio = 0.8, rand_seed = 123):\n",
    "    \n",
    "    np.random.seed(seed = rand_seed)\n",
    "    training_index = np.random.choice(df.index, size = int(np.ceil(len(df)*split_ratio)))\n",
    "    training_data = df.iloc[training_index, :]\n",
    "    testing_data = df.drop(labels = training_index)\n",
    "\n",
    "    training_data.index = list(range(len(training_data)))\n",
    "    testing_data.index = list(range(len(testing_data)))\n",
    "    \n",
    "    return(training_data, testing_data)\n",
    "\n",
    "training_data, testing_data = data_split(df, split_ratio = 0.8)\n",
    "\n",
    "training_x, training_y = training_data.iloc[:, :-1].as_matrix(), training_data.iloc[:, -1].values\n",
    "testing_x, testing_y = testing_data.iloc[:, :-1].as_matrix(),testing_data.iloc[:, -1].values"
   ]
  },
  {
   "cell_type": "markdown",
   "metadata": {},
   "source": [
    "### Summarize Data\n",
    " 1. Separate Training_Data By Class\n",
    " 2. Calculate Mean\n",
    " 3. Calculate Standard Deviation\n",
    " 4. Summarize Dataset\n",
    " 5. Summarize Attributes By Class"
   ]
  },
  {
   "cell_type": "code",
   "execution_count": 5,
   "metadata": {
    "code_folding": []
   },
   "outputs": [],
   "source": [
    "# summarize each attribute by class\n",
    "def summarize_data(training_data, target_variable):\n",
    "    summarize_dic = {}\n",
    "    class_set = [\"class_\" + str(i) for i in set(((training_data[target_variable]).values).astype(int))]\n",
    "    \n",
    "    for i in range(len(set(training_data[target_variable]))):\n",
    "        \n",
    "        temp_data = training_data[training_data[target_variable] == i]\n",
    "        temp_data = temp_data.drop(columns = [target_variable], axis = 1)\n",
    "        temp_dic = {\"mean\" : temp_data.apply(np.mean).values, \"std\": temp_data.apply(np.std).values}\n",
    "        \n",
    "        summarize_dic[class_set[i]] = temp_dic   \n",
    "    return summarize_dic"
   ]
  },
  {
   "cell_type": "code",
   "execution_count": 6,
   "metadata": {},
   "outputs": [
    {
     "data": {
      "text/plain": [
       "{'class_0': {'mean': array([  3.51237624, 108.81683168,  67.80940594,  19.16584158,\n",
       "          69.36386139,  30.34975248,   0.41084406,  31.13861386]),\n",
       "  'std': array([  3.14616619,  25.74371237,  19.62534759,  14.83672596,\n",
       "         102.66907707,   8.20593392,   0.29153442,  11.53902522])},\n",
       " 'class_1': {'mean': array([  5.13744076, 139.3507109 ,  71.24170616,  23.36492891,\n",
       "         120.492891  ,  34.34028436,   0.55568246,  37.72511848]),\n",
       "  'std': array([  3.7976135 ,  31.4421192 ,  18.72483119,  17.01948987,\n",
       "         149.37145942,   5.94910786,   0.35755447,  10.8627929 ])}}"
      ]
     },
     "execution_count": 6,
     "metadata": {},
     "output_type": "execute_result"
    }
   ],
   "source": [
    "summarize = summarize_data(training_data, target_variable = 'Class')\n",
    "summarize"
   ]
  },
  {
   "cell_type": "markdown",
   "metadata": {},
   "source": [
    "###  Make Prediction\n",
    " 1. Calculate Gaussian Probability Density Function\n",
    " 2. Calculate Class Probabilities\n",
    " 3. Make a Prediction\n",
    " 4. Estimate Accuracy"
   ]
  },
  {
   "cell_type": "code",
   "execution_count": 7,
   "metadata": {},
   "outputs": [],
   "source": [
    "def gaussian_probability(x, mean, std):   # 1-D Gaussian probabiluty density function\n",
    "    exp = np.exp((-1/2)*((x - mean)/std)**2)\n",
    "    probability = (1/(std*(np.sqrt(2*np.pi)))) * exp\n",
    "    return(probability)"
   ]
  },
  {
   "cell_type": "code",
   "execution_count": 8,
   "metadata": {},
   "outputs": [],
   "source": [
    "def cal_probability(x, mean_arr, std_arr):  # also can use `scipy.stats.norm(0, 1).pdf()` to calculate probability\n",
    "    if x.shape[1] != len(mean_arr) or x.shape[1] != len(std_arr):\n",
    "        print(\"Your input x, mean_arr or std_arr have some problems\")\n",
    "    \n",
    "    calprob_arr = np.array([])\n",
    "    for i in range(len(x)):\n",
    "        prob_arr = gaussian_probability(x[i, :], mean = mean_arr, std = std_arr)\n",
    "        prob = 1\n",
    "        for temp_prob in prob_arr:\n",
    "            prob *= temp_prob\n",
    "        calprob_arr = np.append(calprob_arr, prob)\n",
    "        \n",
    "    return calprob_arr"
   ]
  },
  {
   "cell_type": "code",
   "execution_count": 9,
   "metadata": {},
   "outputs": [],
   "source": [
    "def predict(training_x, summarize_data, probability = False):\n",
    "    pred = {}\n",
    "    pred_lable = [key for key in summarize_data.keys()]\n",
    "    for keys, pl in zip(summarize_data.keys(), pred_lable):\n",
    "        pred[pl] = cal_probability(x = training_x, mean_arr = summarize_data[keys]['mean'], std_arr = summarize_data[keys]['std'])\n",
    "    pred_df = pd.DataFrame(data = pred)\n",
    "    if probability == False:\n",
    "        class_pred = pred_df.idxmax(axis = 1)\n",
    "        class_pred = (class_pred.str.replace(pat = 'class_', repl = '').astype(int)).values\n",
    "        return class_pred\n",
    "    else:\n",
    "        return pred_df"
   ]
  },
  {
   "cell_type": "code",
   "execution_count": 10,
   "metadata": {},
   "outputs": [],
   "source": [
    "prediction = predict(training_x = testing_x, summarize_data = summarize)"
   ]
  },
  {
   "cell_type": "code",
   "execution_count": 11,
   "metadata": {},
   "outputs": [
    {
     "name": "stdout",
     "output_type": "stream",
     "text": [
      "Accuracy Rate => 0.730\n"
     ]
    },
    {
     "data": {
      "text/plain": [
       "0.7296511627906976"
      ]
     },
     "execution_count": 11,
     "metadata": {},
     "output_type": "execute_result"
    }
   ],
   "source": [
    "def accuracy(prediction_outcome, y):\n",
    "    acc = sum(prediction_outcome == y)/len(prediction_outcome)\n",
    "    print(\"Accuracy Rate => %.3f\" % (acc))\n",
    "    return acc \n",
    "\n",
    "accuracy(prediction_outcome = prediction, y = testing_y)"
   ]
  },
  {
   "cell_type": "markdown",
   "metadata": {},
   "source": [
    "### Tie it together"
   ]
  },
  {
   "cell_type": "code",
   "execution_count": 12,
   "metadata": {
    "code_folding": []
   },
   "outputs": [],
   "source": [
    "class Gaussian_Naive_Bayes:\n",
    "    \n",
    "    def __init__(self):\n",
    "        pass\n",
    "    \n",
    "    def fit(self, training_data, target_variable):  # calculate the mean and standard deviation of each attribute\n",
    "        \"\"\"\n",
    "        type of training_data : pd.DataFrame\n",
    "        type of target_variable : string\n",
    "        \"\"\"\n",
    "        self.summarize_dic = {}\n",
    "        class_set = [\"class_\" + str(i) for i in set(((training_data[target_variable]).values).astype(int))]\n",
    "\n",
    "        for i in range(len(set(training_data[target_variable]))):\n",
    "\n",
    "            temp_data = training_data[training_data[target_variable] == i]\n",
    "            temp_data = temp_data.drop(columns = [target_variable], axis = 1)\n",
    "            temp_dic = {\"mean\" : temp_data.apply(np.mean).values, \"std\": temp_data.apply(np.std).values}\n",
    "\n",
    "            self.summarize_dic[class_set[i]] = temp_dic   \n",
    "    \n",
    "    def __gaussian_probability(self, x, mean, std): # 1-D Gaussian probabiluty density function\n",
    "        exp = np.exp((-1/2)*((x - mean)/std)**2)\n",
    "        probability = (1/(std*(np.sqrt(2*np.pi)))) * exp\n",
    "        return(probability)\n",
    "    \n",
    "    def __cal_probability(self, x, mean_arr, std_arr):  # calculate the probability\n",
    "        if x.shape[1] != len(mean_arr) or x.shape[1] != len(std_arr):\n",
    "            print(\"Your input x, mean_arr or std_arr have some problems\")\n",
    "\n",
    "        calprob_arr = np.array([])\n",
    "        for i in range(len(x)):\n",
    "            prob_arr = self.__gaussian_probability(x[i, :], mean = mean_arr, std = std_arr)\n",
    "            prob = 1\n",
    "            for temp_prob in prob_arr:\n",
    "                prob *= temp_prob\n",
    "            calprob_arr = np.append(calprob_arr, prob)\n",
    "\n",
    "        return calprob_arr\n",
    "    \n",
    "    def predict(self, testing_x, probability = False): # the summarize of attribute is parameter of the model\n",
    "        \"\"\"\n",
    "        type of testing : np.array \n",
    "        \n",
    "        \"\"\"\n",
    "        pred = {}\n",
    "        pred_lable = [key for key in self.summarize_dic.keys()]\n",
    "        for keys, pl in zip(self.summarize_dic.keys(), pred_lable):\n",
    "            \n",
    "            pred[pl] = self.__cal_probability(x = testing_x, mean_arr = self.summarize_dic[keys]['mean'],\n",
    "                                            std_arr = self.summarize_dic[keys]['std'])\n",
    "        pred_df = pd.DataFrame(data = pred)\n",
    "        \n",
    "        if probability == False:\n",
    "            class_pred = pred_df.idxmax(axis = 1)\n",
    "            class_pred = (class_pred.str.replace(pat = 'class_', repl = '').astype(int)).values\n",
    "            return class_pred\n",
    "        else:\n",
    "            return pred_df\n",
    "    \n",
    "    def accuracy(self, prediction_outcome, y):\n",
    "        acc = sum(prediction_outcome == y)/len(prediction_outcome)\n",
    "        return acc      "
   ]
  },
  {
   "cell_type": "code",
   "execution_count": 13,
   "metadata": {},
   "outputs": [
    {
     "name": "stdout",
     "output_type": "stream",
     "text": [
      "Accuracy Rate => 0.72965\n"
     ]
    }
   ],
   "source": [
    "NB = Gaussian_Naive_Bayes()\n",
    "NB.fit(training_data = training_data, target_variable= \"Class\")\n",
    "pred = NB.predict(testing_x = testing_x)\n",
    "acc = NB.accuracy(pred, y = testing_y)\n",
    "print(\"Accuracy Rate => %.5f\" % (acc))"
   ]
  },
  {
   "cell_type": "markdown",
   "metadata": {},
   "source": [
    "### Visualize decision boundary"
   ]
  },
  {
   "cell_type": "code",
   "execution_count": 14,
   "metadata": {},
   "outputs": [],
   "source": [
    "def plot_decision_boundary(data, x_var, y_var, target_variable):\n",
    "\n",
    "    sub_data = data[[x_var, y_var, target_variable]]\n",
    "\n",
    "    target_class = sub_data[target_variable]\n",
    "\n",
    "    x_min, x_max = sub_data[x_var].min(), sub_data[x_var].max()\n",
    "    y_min, y_max = sub_data[y_var].min(), sub_data[y_var].max()\n",
    "\n",
    "    xx, yy = np.meshgrid(np.linspace(x_min - 1, x_max + 1 , num = 100), np.linspace(y_min - 1, y_max + 1 , num = 100))\n",
    "\n",
    "    pair_data = np.c_[xx.ravel(), yy.ravel()]\n",
    "\n",
    "    NB = Gaussian_Naive_Bayes()\n",
    "    NB.fit(training_data = sub_data, target_variable = target_variable)\n",
    "    zz = NB.predict(testing_x = pair_data)\n",
    "\n",
    "    zz = zz.reshape(xx.shape)\n",
    "    plt.contourf(xx, yy, zz, cmap = plt.cm.Pastel2)\n",
    "    plt.contour(xx, yy, zz, linewidths = 0.5, colors = 'black')\n",
    "\n",
    "    zz = zz.reshape(xx.shape)\n",
    "\n",
    "    for target in set(target_class):\n",
    "        plot_x = sub_data[(sub_data[target_variable] == target)][x_var]\n",
    "        plot_y = sub_data[(sub_data[target_variable] == target)][y_var]\n",
    "        plt.scatter(x = plot_x, y = plot_y, color = ['r', 'g', 'b'][int(target)], label = int(target), marker = '.')\n",
    "\n",
    "    plt.legend()\n",
    "    plt.xlabel(x_var)\n",
    "    plt.ylabel(y_var)\n",
    "    plt.show()"
   ]
  },
  {
   "cell_type": "code",
   "execution_count": 15,
   "metadata": {},
   "outputs": [
    {
     "data": {
      "image/png": "[encoded data removed]",
      "text/plain": [
       "<matplotlib.figure.Figure at 0x19dadf28>"
      ]
     },
     "metadata": {},
     "output_type": "display_data"
    }
   ],
   "source": [
    "plot_decision_boundary(data = df, x_var = \"BMI\", y_var = \"Age\", target_variable = \"Class\")"
   ]
  },
  {
   "cell_type": "markdown",
   "metadata": {},
   "source": [
    "### Try for the other Toy data"
   ]
  },
  {
   "cell_type": "code",
   "execution_count": 16,
   "metadata": {},
   "outputs": [],
   "source": [
    "from sklearn import datasets\n",
    "iris = datasets.load_iris()"
   ]
  },
  {
   "cell_type": "code",
   "execution_count": 17,
   "metadata": {},
   "outputs": [],
   "source": [
    "iris_df = np.concatenate((iris.data, iris.target.reshape(len(iris.data), 1)), axis = 1)\n",
    "col_names = iris.feature_names.copy()\n",
    "col_names.append('class')\n",
    "\n",
    "iris_df = pd.DataFrame(data = iris_df, columns = col_names)\n",
    "\n",
    "iris_df = iris_df[[\"sepal length (cm)\", \"petal length (cm)\", \"class\"]]"
   ]
  },
  {
   "cell_type": "code",
   "execution_count": 18,
   "metadata": {},
   "outputs": [
    {
     "name": "stdout",
     "output_type": "stream",
     "text": [
      "Accuracy Rate => 0.72965\n"
     ]
    }
   ],
   "source": [
    "training_data, testing_data = data_split(iris_df, split_ratio = 0.8)\n",
    "training_x, training_y = training_data.iloc[:, :-1], training_data.iloc[:, -1]\n",
    "testing_x, testing_y = testing_data.iloc[:, :-1], testing_data.iloc[:, -1]\n",
    "\n",
    "NB = Gaussian_Naive_Bayes()\n",
    "NB.fit(training_data = training_data, target_variable = \"class\")\n",
    "pred = NB.predict(testing_x = testing_x.as_matrix())\n",
    "NB.accuracy(pred, y = testing_y)\n",
    "print(\"Accuracy Rate => %.5f\" % (acc))"
   ]
  },
  {
   "cell_type": "code",
   "execution_count": 19,
   "metadata": {},
   "outputs": [
    {
     "data": {
      "image/png": "[encoded data removed]",
      "text/plain": [
       "<matplotlib.figure.Figure at 0x1c4ade48>"
      ]
     },
     "metadata": {},
     "output_type": "display_data"
    }
   ],
   "source": [
    "plot_decision_boundary(data = training_data, x_var = \"sepal length (cm)\", y_var = \"petal length (cm)\",\n",
    "                       target_variable = \"class\")"
   ]
  },
  {
   "cell_type": "markdown",
   "metadata": {},
   "source": [
    "## More Complex Generative Model"
   ]
  },
  {
   "cell_type": "markdown",
   "metadata": {},
   "source": [
    "Naive Bayes model has a `naive` assumption, but this assumption can't always set up.\n",
    "\n",
    "Therefore, we need to break through the assumption."
   ]
  },
  {
   "cell_type": "markdown",
   "metadata": {},
   "source": [
    "$$P(C_{1}|X)\\ =\\ \\dfrac{P(x|C_{1})P(C_{1})}{P(C_{1})P(x|C_{1})\\ +\\ P(x|C_{2})P(C_{2})}$$"
   ]
  },
  {
   "cell_type": "markdown",
   "metadata": {},
   "source": [
    "#### (1). Summarize Data\n",
    " 1. Separate Training_data By Class\n",
    " 2. Calculate Mean\n",
    " 3. Calculate the proprotion of each class \n",
    " 4. Calculate Covariance of each features\n",
    "  - If you use the same covariance between each class, it needs to calculate weighted covariance.\n",
    "  - If you don't use the same covariance between each class, it needs to use corresponding covariance of each class.\n",
    " \n",
    "#### (2). Make Prediction\n",
    "\n",
    " 1. Calculate Gaussian Probability Density Function\n",
    " 2. Calculate Class Probabilities\n",
    " 3. Make a Prediction\n",
    " 4. Estimate Accuracy"
   ]
  },
  {
   "cell_type": "code",
   "execution_count": 20,
   "metadata": {},
   "outputs": [],
   "source": [
    "from scipy.stats import multivariate_normal"
   ]
  },
  {
   "cell_type": "code",
   "execution_count": 21,
   "metadata": {
    "scrolled": true
   },
   "outputs": [],
   "source": [
    "class generative_model:\n",
    "    def __init__(self):\n",
    "        pass\n",
    "    \n",
    "    def __summarize_data(self, training_data, target_variable):\n",
    "        summarize_dic = {}\n",
    "        self.__class_set = [\"class_\" + str(i) for i in set(((training_data[target_variable]).values).astype(int))] \n",
    "        # class_set is keyword for all new creation dictionary. \n",
    "        for i in range(len(set(training_data[target_variable]))):\n",
    "\n",
    "            temp_data = training_data[training_data[target_variable] == i]\n",
    "            temp_data = temp_data.drop(columns = [target_variable], axis = 1)\n",
    "            temp_dic = {\"mean\" : temp_data.apply(np.mean).values}\n",
    "\n",
    "            summarize_dic[self.__class_set[i]] = temp_dic   \n",
    "        return summarize_dic\n",
    "    \n",
    "    def __get_covar_each(self, training_data, target_variable): # get covariance of each class. \n",
    "        covar_dic = {}\n",
    "        for target, cl in zip(set(training_data[target_variable]), self.__class_set):\n",
    "            temp_data = training_data[training_data[target_variable] == target]\n",
    "            temp_data = temp_data.drop(columns = target_variable).as_matrix()\n",
    "            covar = np.cov(m = temp_data, rowvar = False)\n",
    "            covar_dic[cl] = covar\n",
    "        return covar_dic\n",
    "    \n",
    "    def __portion_of_data(self, training_data, target_variable): # calculate the proportion of each class.\n",
    "\n",
    "        total_data = len(training_data)\n",
    "        len_dic = {}\n",
    "        for target, cl in zip(set(training_data[target_variable]), self.__class_set):\n",
    "            len_dic[cl] = len(training_data[training_data[target_variable] == target])/total_data\n",
    "\n",
    "        return(len_dic)\n",
    "    \n",
    "    def __weighted_sum_covar(self, training_data, covar_dic, target_variable):\n",
    "        # Calculate covariance without separting class.\n",
    "        # Calculate the covariance of each attributes, then weighted sum by the number of data in class.\n",
    "        covariance = 0\n",
    "        for cl in self.__class_set:\n",
    "            covariance += self.__len_dic[cl] * covar_dic[cl]\n",
    "        return(covariance)\n",
    "    \n",
    "    def fit(self, training_data, target_variable, same_covar = True):\n",
    "        \n",
    "        self.same_covar = same_covar\n",
    "        \n",
    "        self.summarize = self.__summarize_data(training_data = training_data, target_variable = target_variable)\n",
    "        self.covar_dic = self.__get_covar_each(training_data = training_data, target_variable = target_variable)\n",
    "        self.__len_dic = self. __portion_of_data(training_data = training_data, target_variable = target_variable)\n",
    "        # assume the same covariance between each class.  \n",
    "        if same_covar == True:\n",
    "            self.covariance = self.__weighted_sum_covar(training_data = training_data, covar_dic = self.covar_dic, \n",
    "                                                        target_variable = target_variable)\n",
    "    \n",
    "    def predict(self, testing_x):\n",
    "        \n",
    "        if self.same_covar == True:\n",
    "            \n",
    "            prob_sum = 0\n",
    "            for key in self.summarize.keys():\n",
    "                prob_sum += multivariate_normal.pdf(testing_x, mean = self.summarize[key]['mean'],\n",
    "                                                    cov = self.covariance)*self.__len_dic[key]\n",
    "            pred_dic = {}\n",
    "            for key in self.summarize.keys():\n",
    "                pred_dic[key] = (multivariate_normal.pdf(testing_x, mean = self.summarize[key]['mean'],\n",
    "                                                         cov = self.covariance)*self.__len_dic[key])/prob_sum\n",
    "\n",
    "            pred_table = pd.DataFrame(data = pred_dic)\n",
    "            pred_label = pred_table.idxmax(axis = 1).str.replace(pat = 'class_', repl = '').astype(int).values\n",
    "\n",
    "            return pred_label\n",
    "        else:\n",
    "            prob_sum = 0\n",
    "            for key in self.summarize.keys():\n",
    "                prob_sum += multivariate_normal.pdf(testing_x, mean = self.summarize[key]['mean'],\n",
    "                                                    cov = self.covar_dic[key])*self.__len_dic[key]\n",
    "                        \n",
    "            pred_dic = {}\n",
    "            for key in self.summarize.keys():\n",
    "                pred_dic[key] = (multivariate_normal.pdf(testing_x, mean = self.summarize[key]['mean'], \n",
    "                                                         cov = self.covar_dic[key])*self.__len_dic[key])/prob_sum\n",
    "            pred_table = pd.DataFrame(data = pred_dic)\n",
    "            pred_label = pred_table.idxmax(axis = 1).str.replace(pat = 'class_', repl = '').astype(int).values\n",
    "            return pred_label\n",
    "        \n",
    "    def accuracy(self, prediction_outcome, y):\n",
    "        acc = sum(prediction_outcome == y)/len(prediction_outcome)\n",
    "        return acc     "
   ]
  },
  {
   "cell_type": "code",
   "execution_count": 22,
   "metadata": {},
   "outputs": [],
   "source": [
    "# using pima-indians.data \n",
    "training_data, testing_data = data_split(df, split_ratio = 0.8)\n",
    "\n",
    "training_x, training_y = training_data.iloc[:, :-1].as_matrix(), training_data.iloc[:, -1].values\n",
    "testing_x, testing_y = testing_data.iloc[:, :-1].as_matrix(),testing_data.iloc[:, -1].values"
   ]
  },
  {
   "cell_type": "code",
   "execution_count": 23,
   "metadata": {},
   "outputs": [
    {
     "name": "stdout",
     "output_type": "stream",
     "text": [
      "Accuracy Rate => 0.77073\n"
     ]
    }
   ],
   "source": [
    "gm = generative_model()\n",
    "gm.fit(training_data = training_data, target_variable = \"Class\", same_covar = True)\n",
    "pred = gm.predict(testing_x = training_x)\n",
    "acc = gm.accuracy(prediction_outcome = pred, y = training_y)\n",
    "print(\"Accuracy Rate => %.5f\" % (acc))"
   ]
  },
  {
   "cell_type": "code",
   "execution_count": 24,
   "metadata": {},
   "outputs": [],
   "source": [
    "def plot_decision_boundary(data, x_var, y_var, target_variable, same_covar = True):\n",
    "\n",
    "    sub_data = data[[x_var, y_var, target_variable]]\n",
    "\n",
    "    target_class = sub_data[target_variable]\n",
    "\n",
    "    x_min, x_max = sub_data[x_var].min(), sub_data[x_var].max()\n",
    "    y_min, y_max = sub_data[y_var].min(), sub_data[y_var].max()\n",
    "\n",
    "    xx, yy = np.meshgrid(np.linspace(x_min - 1, x_max + 1 , num = 200), np.linspace(y_min - 1, y_max + 1 , num = 200))\n",
    "\n",
    "    pair_data = np.c_[xx.ravel(), yy.ravel()]\n",
    "    \n",
    "    gm = generative_model() # replace model\n",
    "    gm.fit(training_data = sub_data, target_variable = target_variable, same_covar = same_covar)\n",
    "    zz = gm.predict(testing_x = pair_data)\n",
    "    \n",
    "    #NB = Gaussian_Naive_Bayes()\n",
    "    #NB.fit(training_data = sub_data, target_variable = target_variable)\n",
    "    #zz = NB.predict(testing_x = pair_data)\n",
    "\n",
    "    zz = zz.reshape(xx.shape)\n",
    "    plt.contourf(xx, yy, zz, cmap = plt.cm.Pastel2)\n",
    "    plt.contour(xx, yy, zz, linewidths = 0.5, colors = 'black')\n",
    "\n",
    "    zz = zz.reshape(xx.shape)\n",
    "\n",
    "    for target in set(target_class):\n",
    "        plot_x = sub_data[(sub_data[target_variable] == target)][x_var]\n",
    "        plot_y = sub_data[(sub_data[target_variable] == target)][y_var]\n",
    "        plt.scatter(x = plot_x, y = plot_y, color = ['r', 'g', 'b'][int(target)], label = int(target), marker = '.')\n",
    "\n",
    "    plt.legend()\n",
    "    plt.xlabel(x_var)\n",
    "    plt.ylabel(y_var)\n",
    "    plt.show()"
   ]
  },
  {
   "cell_type": "markdown",
   "metadata": {},
   "source": [
    "### Visualize decision boundary"
   ]
  },
  {
   "cell_type": "code",
   "execution_count": 25,
   "metadata": {},
   "outputs": [
    {
     "data": {
      "image/png": "[encoded data removed]",
      "text/plain": [
       "<matplotlib.figure.Figure at 0x1c4ad3c8>"
      ]
     },
     "metadata": {},
     "output_type": "display_data"
    }
   ],
   "source": [
    "plot_decision_boundary(data = training_data, x_var = \"BMI\", y_var = \"Age\",\n",
    "                       target_variable = \"Class\", same_covar = True)"
   ]
  },
  {
   "cell_type": "code",
   "execution_count": 26,
   "metadata": {},
   "outputs": [],
   "source": [
    "# using iris data set\n",
    "training_data, testing_data = data_split(iris_df, split_ratio = 0.8)\n",
    "training_x, training_y = training_data.iloc[:, :-1], training_data.iloc[:, -1]\n",
    "testing_x, testing_y = testing_data.iloc[:, :-1], testing_data.iloc[:, -1]"
   ]
  },
  {
   "cell_type": "code",
   "execution_count": 27,
   "metadata": {},
   "outputs": [
    {
     "name": "stdout",
     "output_type": "stream",
     "text": [
      "Accuracy Rate => 0.93333\n"
     ]
    }
   ],
   "source": [
    "gm = generative_model()\n",
    "gm.fit(training_data = training_data, target_variable = \"class\", same_covar = True)\n",
    "pred = gm.predict(testing_x = training_x)\n",
    "acc = gm.accuracy(prediction_outcome = pred, y = training_y)\n",
    "print(\"Accuracy Rate => %.5f\" % (acc))"
   ]
  },
  {
   "cell_type": "code",
   "execution_count": 28,
   "metadata": {},
   "outputs": [
    {
     "data": {
      "image/png": "[encoded data removed]",
      "text/plain": [
       "<matplotlib.figure.Figure at 0x19e48470>"
      ]
     },
     "metadata": {},
     "output_type": "display_data"
    }
   ],
   "source": [
    "plot_decision_boundary(data = training_data, x_var = \"sepal length (cm)\", y_var = \"petal length (cm)\",\n",
    "                       target_variable = \"class\")"
   ]
  },
  {
   "cell_type": "markdown",
   "metadata": {},
   "source": [
    "## Sklearn Naive Bayes Algorithm"
   ]
  },
  {
   "cell_type": "code",
   "execution_count": 29,
   "metadata": {},
   "outputs": [],
   "source": [
    "from sklearn.naive_bayes import GaussianNB\n",
    "from sklearn import metrics"
   ]
  },
  {
   "cell_type": "code",
   "execution_count": 30,
   "metadata": {},
   "outputs": [],
   "source": [
    "# pima-indians dataset \n",
    "training_data, testing_data = data_split(df, split_ratio = 0.8)\n",
    "\n",
    "training_x, training_y = training_data.iloc[:, :-1].as_matrix(), training_data.iloc[:, -1].values\n",
    "testing_x, testing_y = testing_data.iloc[:, :-1].as_matrix(),testing_data.iloc[:, -1].values"
   ]
  },
  {
   "cell_type": "code",
   "execution_count": 31,
   "metadata": {},
   "outputs": [],
   "source": [
    "gnb = GaussianNB()\n",
    "gnb.fit(X = training_x, y = training_y)\n",
    "pred = gnb.predict(X = testing_x)"
   ]
  },
  {
   "cell_type": "code",
   "execution_count": 32,
   "metadata": {},
   "outputs": [
    {
     "name": "stdout",
     "output_type": "stream",
     "text": [
      "Accuracy : 74.42%\n"
     ]
    }
   ],
   "source": [
    "print(\"Accuracy : {0:.2f}%\".format(metrics.accuracy_score(testing_y, pred)*100))"
   ]
  },
  {
   "cell_type": "code",
   "execution_count": 33,
   "metadata": {},
   "outputs": [
    {
     "name": "stdout",
     "output_type": "stream",
     "text": [
      "             precision    recall  f1-score   support\n",
      "\n",
      "        0.0       0.78      0.83      0.81       218\n",
      "        1.0       0.67      0.59      0.63       126\n",
      "\n",
      "avg / total       0.74      0.74      0.74       344\n",
      "\n"
     ]
    }
   ],
   "source": [
    "print(metrics.classification_report(y_true = testing_y, y_pred = pred))"
   ]
  },
  {
   "cell_type": "code",
   "execution_count": 34,
   "metadata": {},
   "outputs": [],
   "source": [
    "def plot_decision_boundary(data, x_var, y_var, target_variable):\n",
    "\n",
    "    sub_data = data[[x_var, y_var, target_variable]]\n",
    "\n",
    "    target_class = sub_data[target_variable]\n",
    "\n",
    "    x_min, x_max = sub_data[x_var].min(), sub_data[x_var].max()\n",
    "    y_min, y_max = sub_data[y_var].min(), sub_data[y_var].max()\n",
    "\n",
    "    xx, yy = np.meshgrid(np.linspace(x_min - 1, x_max + 1 , num = 200), np.linspace(y_min - 1, y_max + 1 , num = 200))\n",
    "\n",
    "    pair_data = np.c_[xx.ravel(), yy.ravel()]\n",
    "        \n",
    "    gnb = GaussianNB() # replace model\n",
    "    gnb.fit(X = sub_data[[x_var, y_var]], y = sub_data[target_variable])\n",
    "    zz = gnb.predict(X = pair_data)\n",
    "\n",
    "    zz = zz.reshape(xx.shape)\n",
    "    plt.contourf(xx, yy, zz, cmap = plt.cm.Pastel2)\n",
    "    plt.contour(xx, yy, zz, linewidths = 0.5, colors = 'black')\n",
    "\n",
    "    zz = zz.reshape(xx.shape)\n",
    "\n",
    "    for target in set(target_class):\n",
    "        plot_x = sub_data[(sub_data[target_variable] == target)][x_var]\n",
    "        plot_y = sub_data[(sub_data[target_variable] == target)][y_var]\n",
    "        plt.scatter(x = plot_x, y = plot_y, color = ['r', 'g', 'b'][int(target)], label = int(target), marker = '.')\n",
    "\n",
    "    plt.legend()\n",
    "    plt.xlabel(x_var)\n",
    "    plt.ylabel(y_var)\n",
    "    plt.show()"
   ]
  },
  {
   "cell_type": "code",
   "execution_count": 35,
   "metadata": {},
   "outputs": [
    {
     "data": {
      "image/png": "[encoded data removed]",
      "text/plain": [
       "<matplotlib.figure.Figure at 0x1c9a2d68>"
      ]
     },
     "metadata": {},
     "output_type": "display_data"
    }
   ],
   "source": [
    "# only use two variable to built model and visualize the decision region.\n",
    "plot_decision_boundary(data = training_data, x_var = \"BMI\", y_var = \"Age\",\n",
    "                       target_variable = \"Class\")"
   ]
  },
  {
   "cell_type": "markdown",
   "metadata": {},
   "source": [
    "### Reference : \n",
    " - [sklearn Naive Bayes](http://scikit-learn.org/stable/modules/generated/sklearn.naive_bayes.GaussianNB.html)\n",
    " - [How To Implement Naive Bayes From Scratch in Python](https://machinelearningmastery.com/naive-bayes-classifier-scratch-python/) by [Jason Brownlee](https://machinelearningmastery.com/)\n",
    " - [NTU Machine Learning 2017 Hung-yi Lee](http://speech.ee.ntu.edu.tw/~tlkagk/courses_ML17.html)"
   ]
  }
 ],
 "metadata": {
  "kernelspec": {
   "display_name": "Python 3",
   "language": "python",
   "name": "python3"
  },
  "language_info": {
   "codemirror_mode": {
    "name": "ipython",
    "version": 3
   },
   "file_extension": ".py",
   "mimetype": "text/x-python",
   "name": "python",
   "nbconvert_exporter": "python",
   "pygments_lexer": "ipython3",
   "version": "3.6.4"
  },
  "toc": {
   "base_numbering": 1,
   "nav_menu": {},
   "number_sections": false,
   "sideBar": true,
   "skip_h1_title": false,
   "title_cell": "Table of Contents",
   "title_sidebar": "Contents",
   "toc_cell": false,
   "toc_position": {},
   "toc_section_display": true,
   "toc_window_display": false
  },
  "varInspector": {
   "cols": {
    "lenName": 16,
    "lenType": 16,
    "lenVar": 40
   },
   "kernels_config": {
    "python": {
     "delete_cmd_postfix": "",
     "delete_cmd_prefix": "del ",
     "library": "var_list.py",
     "varRefreshCmd": "print(var_dic_list())"
    },
    "r": {
     "delete_cmd_postfix": ") ",
     "delete_cmd_prefix": "rm(",
     "library": "var_list.r",
     "varRefreshCmd": "cat(var_dic_list()) "
    }
   },
   "position": {
    "height": "234px",
    "left": "1166px",
    "right": "20px",
    "top": "119px",
    "width": "350px"
   },
   "types_to_exclude": [
    "module",
    "function",
    "builtin_function_or_method",
    "instance",
    "_Feature"
   ],
   "window_display": false
  }
 },
 "nbformat": 4,
 "nbformat_minor": 2
}
